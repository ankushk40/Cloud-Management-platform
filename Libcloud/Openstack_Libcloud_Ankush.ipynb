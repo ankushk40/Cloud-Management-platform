{
 "cells": [
  {
   "cell_type": "code",
   "execution_count": 1,
   "metadata": {},
   "outputs": [],
   "source": [
    "from libcloud.compute.types import Provider\n",
    "from libcloud.compute.providers import get_driver\n",
    "\n",
    "import libcloud.security\n",
    "\n",
    "libcloud.security.VERIFY_SSL_CERT = False"
   ]
  },
  {
   "cell_type": "code",
   "execution_count": 2,
   "metadata": {},
   "outputs": [],
   "source": [
    "OpenStack = get_driver(Provider.OPENSTACK)\n",
    "driver = OpenStack('Ajay1.Raut', 'Ajay1.Raut@123',\n",
    "                   ex_force_auth_url= 'https://10.159.42.25:5000',\n",
    "                   ex_force_auth_version='3.x_password',\n",
    "                  ex_tenant_name='TEST_POC_RAJESH1_JOSHI')"
   ]
  },
  {
   "cell_type": "markdown",
   "metadata": {},
   "source": [
    "### List location"
   ]
  },
  {
   "cell_type": "code",
   "execution_count": 3,
   "metadata": {},
   "outputs": [
    {
     "data": {
      "text/plain": [
       "[<NodeLocation: id=0, name=, country=, driver=OpenStack>]"
      ]
     },
     "execution_count": 3,
     "metadata": {},
     "output_type": "execute_result"
    }
   ],
   "source": [
    "data = driver.list_locations()\n",
    "data"
   ]
  },
  {
   "cell_type": "markdown",
   "metadata": {},
   "source": [
    "### List sizes"
   ]
  },
  {
   "cell_type": "code",
   "execution_count": 15,
   "metadata": {},
   "outputs": [
    {
     "name": "stderr",
     "output_type": "stream",
     "text": [
      "C:\\ProgramData\\Anaconda5\\lib\\site-packages\\urllib3\\connectionpool.py:981: InsecureRequestWarning: Unverified HTTPS request is being made to host '10.159.42.25'. Adding certificate verification is strongly advised. See: https://urllib3.readthedocs.io/en/latest/advanced-usage.html#ssl-warnings\n",
      "  warnings.warn(\n"
     ]
    },
    {
     "name": "stdout",
     "output_type": "stream",
     "text": [
      "[<OpenStackNodeSize: id=00c45210-b99c-4a87-9d80-42c69bfc2856, name=mons_master, ram=8192, disk=300, bandwidth=None, price=0.0, driver=OpenStack, vcpus=4,  ...>, <OpenStackNodeSize: id=07a08f54-1bab-4d14-8f54-4974f6b884e2, name=m1.extra_tiny_test, ram=256, disk=1, bandwidth=None, price=0.0, driver=OpenStack, vcpus=1,  ...>, <OpenStackNodeSize: id=0c1f42bf-38f7-48c3-9612-5485d60d2ab8, name=m1.medium, ram=4096, disk=0, bandwidth=None, price=0.0, driver=OpenStack, vcpus=2,  ...>, <OpenStackNodeSize: id=13b4a6ee-d5b4-4cd2-ac4b-301222b07ce6, name=m1.2xlarge, ram=32768, disk=0, bandwidth=None, price=0.0, driver=OpenStack, vcpus=8,  ...>, <OpenStackNodeSize: id=27d11613-06ab-4cbd-b9ec-d3df6a307706, name=m1.4xlarge, ram=65536, disk=0, bandwidth=None, price=0.0, driver=OpenStack, vcpus=16,  ...>, <OpenStackNodeSize: id=3a265711-d966-43c5-9851-d8edb47b04be, name=40xlarge, ram=131072, disk=0, bandwidth=None, price=0.0, driver=OpenStack, vcpus=40,  ...>, <OpenStackNodeSize: id=4cb3ff2a-f111-41b1-aebc-7e0b36e9d119, name=m1.small, ram=2048, disk=0, bandwidth=None, price=0.0, driver=OpenStack, vcpus=1,  ...>, <OpenStackNodeSize: id=580821ad-911c-4da4-a191-9583af18aed0, name=m1.2xsmall, ram=4096, disk=0, bandwidth=None, price=0.0, driver=OpenStack, vcpus=1,  ...>, <OpenStackNodeSize: id=586bb880-bbbe-4c27-922b-a148c7acc4c2, name=mons_slave, ram=2048, disk=5, bandwidth=None, price=0.0, driver=OpenStack, vcpus=1,  ...>, <OpenStackNodeSize: id=a20b4944-0457-46b2-8d96-8ab0fcd6d0b0, name=m1.tiny_test, ram=512, disk=5, bandwidth=None, price=0.0, driver=OpenStack, vcpus=1,  ...>, <OpenStackNodeSize: id=a6200302-20a7-44ba-a91e-4191600f1c47, name=m1.1xlarge, ram=32768, disk=0, bandwidth=None, price=0.0, driver=OpenStack, vcpus=4,  ...>, <OpenStackNodeSize: id=a96d966f-fcaf-482b-9ddc-200dc2f5c25c, name=m1.large, ram=8196, disk=0, bandwidth=None, price=0.0, driver=OpenStack, vcpus=4,  ...>, <OpenStackNodeSize: id=b2fd938d-3537-4f94-87f5-75ed70ba3472, name=m1.2xmedium, ram=8192, disk=0, bandwidth=None, price=0.0, driver=OpenStack, vcpus=2,  ...>, <OpenStackNodeSize: id=ea07a13f-736a-40dc-8674-03692999d1b7, name=JIO_ADPLATFORM, ram=131072, disk=0, bandwidth=None, price=0.0, driver=OpenStack, vcpus=8,  ...>, <OpenStackNodeSize: id=f3126a63-470c-4f52-b7b3-908072526c31, name=m1.tiny, ram=512, disk=0, bandwidth=None, price=0.0, driver=OpenStack, vcpus=1,  ...>, <OpenStackNodeSize: id=fc366c84-eed0-4af4-bc39-92e2e51b19b8, name=m1.xlarge, ram=16384, disk=0, bandwidth=None, price=0.0, driver=OpenStack, vcpus=8,  ...>]\n",
      "<class 'list'>\n"
     ]
    }
   ],
   "source": [
    "listsizes = driver.list_sizes()\n",
    "print(listsizes)\n",
    "print(type(listsizes))\n"
   ]
  },
  {
   "cell_type": "code",
   "execution_count": 18,
   "metadata": {},
   "outputs": [
    {
     "name": "stdout",
     "output_type": "stream",
     "text": [
      "<OpenStackNodeSize: id=00c45210-b99c-4a87-9d80-42c69bfc2856, name=mons_master, ram=8192, disk=300, bandwidth=None, price=0.0, driver=OpenStack, vcpus=4,  ...>\n",
      "<class 'libcloud.compute.drivers.openstack.OpenStackNodeSize'>\n"
     ]
    }
   ],
   "source": [
    "size = listsizes[0]\n",
    "print(size)\n",
    "print(type(size))\n"
   ]
  },
  {
   "cell_type": "code",
   "execution_count": 19,
   "metadata": {},
   "outputs": [
    {
     "data": {
      "text/plain": [
       "{'id': '00c45210-b99c-4a87-9d80-42c69bfc2856',\n",
       " 'name': 'mons_master',\n",
       " 'ram': 8192,\n",
       " 'disk': 300,\n",
       " 'bandwidth': None,\n",
       " 'price': 0.0,\n",
       " 'driver': <libcloud.compute.drivers.openstack.OpenStack_1_1_NodeDriver at 0x2574fc525b0>,\n",
       " 'extra': {},\n",
       " '_uuid': None,\n",
       " 'vcpus': 4,\n",
       " 'ephemeral_disk': 0,\n",
       " 'swap': ''}"
      ]
     },
     "execution_count": 19,
     "metadata": {},
     "output_type": "execute_result"
    }
   ],
   "source": [
    "size.__dict__"
   ]
  },
  {
   "cell_type": "markdown",
   "metadata": {},
   "source": [
    "### List Images"
   ]
  },
  {
   "cell_type": "code",
   "execution_count": 14,
   "metadata": {},
   "outputs": [
    {
     "name": "stderr",
     "output_type": "stream",
     "text": [
      "C:\\ProgramData\\Anaconda5\\lib\\site-packages\\urllib3\\connectionpool.py:981: InsecureRequestWarning: Unverified HTTPS request is being made to host '10.159.42.25'. Adding certificate verification is strongly advised. See: https://urllib3.readthedocs.io/en/latest/advanced-usage.html#ssl-warnings\n",
      "  warnings.warn(\n"
     ]
    },
    {
     "name": "stdout",
     "output_type": "stream",
     "text": [
      "[<NodeImage: id=1d8bb031-89f0-4e69-9424-a1f40d930291, name=Thales-TDP, driver=OpenStack  ...>, <NodeImage: id=aaef1724-2977-4af3-b940-7751281798e8, name=Thales-CM, driver=OpenStack  ...>, <NodeImage: id=f93e65ea-d0f5-46d1-9cda-088edcddd361, name=Thales-CTS, driver=OpenStack  ...>, <NodeImage: id=5176edd1-25de-40d7-9bbb-d82e3ca6135b, name=Windows-Server-2016-Std, driver=OpenStack  ...>, <NodeImage: id=bff23ddd-80ad-4b5a-8a21-e25d1c52559c, name=Windows-Server-2012-Std, driver=OpenStack  ...>, <NodeImage: id=8d4f43b3-0382-462b-8608-c1b5e4f3c36d, name=Windows-Server-2012-R2, driver=OpenStack  ...>, <NodeImage: id=88c07c5c-c0c7-44bd-a9a6-dd7ff90af50a, name=Oracle-Linux7.9, driver=OpenStack  ...>, <NodeImage: id=e1330823-e014-4ac7-bc83-23a0ff5a2d0c, name=Centos-7.9, driver=OpenStack  ...>, <NodeImage: id=a982f9fb-a85e-4195-a0a9-43381b0c8865, name=Ubuntu14.04, driver=OpenStack  ...>, <NodeImage: id=f0232728-42ae-4391-8dc8-5bd642e4b796, name=Ubuntu16.04, driver=OpenStack  ...>, <NodeImage: id=91a97a6e-da20-4ab0-a66e-688b9b013d9f, name=Ubuntu18.04, driver=OpenStack  ...>, <NodeImage: id=247e1761-d49a-4c8c-b674-91ae55f0f116, name=OracleLinux7.8, driver=OpenStack  ...>, <NodeImage: id=9ca29b57-eb0a-4948-a822-5242c1ffb2b6, name=Centos7.8, driver=OpenStack  ...>, <NodeImage: id=4ad93e9f-d243-413a-8c99-62e826cafa6f, name=np-test, driver=OpenStack  ...>, <NodeImage: id=ad7ee31a-b45f-4f1c-9b92-ceeee32c5409, name=RHEL7.7, driver=OpenStack  ...>, <NodeImage: id=dfc78bc7-49ef-4e29-adf8-a7123c1c8319, name=testvm, driver=OpenStack  ...>, <NodeImage: id=4a897c06-5dae-40a9-b018-72b2db911c90, name=Oracle-Linux7.7, driver=OpenStack  ...>, <NodeImage: id=f76cc57f-0fed-4de9-97e1-842e0bc8f144, name=cbam-release, driver=OpenStack  ...>, <NodeImage: id=5d960d57-c762-4a7e-8d8f-7ea73edb4411, name=cbam-installer, driver=OpenStack  ...>, <NodeImage: id=afb4377b-e65c-433b-a367-6ac1c40695d2, name=Drill_Aug2019, driver=OpenStack  ...>, <NodeImage: id=2a834140-0151-4f23-bf00-6d96d00e8ba2, name=OracleLinux7.6, driver=OpenStack  ...>, <NodeImage: id=690c382d-0586-47f1-b41d-c9c7a1051d11, name=Rhel7.6, driver=OpenStack  ...>, <NodeImage: id=5ea6f4dd-0fa3-4c92-a8f2-2f51f30ad891, name=WINDOWS_2K16_64BIT, driver=OpenStack  ...>, <NodeImage: id=cf869f47-d7b7-4e32-bddc-8e21e05ad62f, name=Centos-7.5-BaseImage, driver=OpenStack  ...>, <NodeImage: id=9659582d-2606-450e-9020-c58f7e10e162, name=RHEL-7.4, driver=OpenStack  ...>, <NodeImage: id=86ef74e3-60ef-4de5-91eb-a45852555a7e, name=OracleLinux-7.5, driver=OpenStack  ...>, <NodeImage: id=e3fc0852-4a88-4b8f-b379-19fd3c0b094d, name=RHEL-7.5, driver=OpenStack  ...>, <NodeImage: id=5fdfb7e2-2557-4792-8f19-8f05f1042509, name=Centos-7.5, driver=OpenStack  ...>, <NodeImage: id=632f03f4-ba16-4450-a970-2861e29f3f89, name=cirros4.0, driver=OpenStack  ...>, <NodeImage: id=3ba582da-e24c-474c-bd54-1e5cd0eb5240, name=cirros, driver=OpenStack  ...>, <NodeImage: id=14580b96-020b-4143-b64a-3a7dd6bde8ca, name=Rhel-73, driver=OpenStack  ...>, <NodeImage: id=9492b872-6372-449b-9c1d-e5ed99708acc, name=Rhel-72, driver=OpenStack  ...>, <NodeImage: id=535bb309-2efd-498f-ae7b-9062e1c1f274, name=OracleLinux-72, driver=OpenStack  ...>, <NodeImage: id=c45b2149-c5d9-4823-801a-d5925c6b8839, name=OracleLinux-71, driver=OpenStack  ...>, <NodeImage: id=ff86ee13-0ffb-4cd8-814f-3babf440ff71, name=CentOS_74, driver=OpenStack  ...>, <NodeImage: id=abcfe255-ad4c-4991-a574-9f8e5c3e9b41, name=CentOS_73, driver=OpenStack  ...>, <NodeImage: id=f08dc28e-7a62-41c0-849b-38ced581a904, name=CentOS_72, driver=OpenStack  ...>]\n",
      "<class 'list'>\n"
     ]
    }
   ],
   "source": [
    "images = driver.list_images()\n",
    "print(images)\n",
    "print(type(images))"
   ]
  },
  {
   "cell_type": "markdown",
   "metadata": {},
   "source": [
    "### List Volumes"
   ]
  },
  {
   "cell_type": "code",
   "execution_count": 12,
   "metadata": {},
   "outputs": [
    {
     "name": "stderr",
     "output_type": "stream",
     "text": [
      "C:\\ProgramData\\Anaconda5\\lib\\site-packages\\urllib3\\connectionpool.py:981: InsecureRequestWarning: Unverified HTTPS request is being made to host '10.159.42.25'. Adding certificate verification is strongly advised. See: https://urllib3.readthedocs.io/en/latest/advanced-usage.html#ssl-warnings\n",
      "  warnings.warn(\n"
     ]
    },
    {
     "name": "stdout",
     "output_type": "stream",
     "text": [
      "[<StorageVolume id=848731ed-95dc-4771-8c1b-cca314adf023 size=6 driver=OpenStack>, <StorageVolume id=6e961d2a-9155-43f8-90ac-7a4a69da4bc2 size=6 driver=OpenStack>]\n",
      "<class 'list'>\n"
     ]
    }
   ],
   "source": [
    "volume = driver.list_volumes()\n",
    "print(volume)\n",
    "print(type(volume))"
   ]
  },
  {
   "cell_type": "markdown",
   "metadata": {},
   "source": [
    "### List Security groups"
   ]
  },
  {
   "cell_type": "code",
   "execution_count": 21,
   "metadata": {},
   "outputs": [
    {
     "name": "stderr",
     "output_type": "stream",
     "text": [
      "C:\\ProgramData\\Anaconda5\\lib\\site-packages\\urllib3\\connectionpool.py:981: InsecureRequestWarning: Unverified HTTPS request is being made to host '10.159.42.25'. Adding certificate verification is strongly advised. See: https://urllib3.readthedocs.io/en/latest/advanced-usage.html#ssl-warnings\n",
      "  warnings.warn(\n"
     ]
    },
    {
     "name": "stdout",
     "output_type": "stream",
     "text": [
      "[<OpenStackSecurityGroup id=1aca437a-17ba-428c-ab85-37a25739bea6 tenant_id=29c03edf206d4b319a2a1568a578b3c9 name=default         description=Default security group>]\n"
     ]
    }
   ],
   "source": [
    "security = driver.ex_list_security_groups()\n",
    "print(security)"
   ]
  },
  {
   "cell_type": "markdown",
   "metadata": {},
   "source": [
    "### List Networks"
   ]
  },
  {
   "cell_type": "code",
   "execution_count": 22,
   "metadata": {},
   "outputs": [
    {
     "name": "stderr",
     "output_type": "stream",
     "text": [
      "C:\\ProgramData\\Anaconda5\\lib\\site-packages\\urllib3\\connectionpool.py:981: InsecureRequestWarning: Unverified HTTPS request is being made to host '10.159.42.25'. Adding certificate verification is strongly advised. See: https://urllib3.readthedocs.io/en/latest/advanced-usage.html#ssl-warnings\n",
      "  warnings.warn(\n"
     ]
    },
    {
     "name": "stdout",
     "output_type": "stream",
     "text": [
      "[<OpenStackNetwork id=\"86c30cce-15f3-4aae-81d0-9de23629069f\" name=\"DEV_PARTNERS_NONPROD\" cidr=\"None\">, <OpenStackNetwork id=\"5e5f09ec-9fbf-4d79-a3d3-24ea100c4b3e\" name=\"JIO_EMBIBE_DEV\" cidr=\"None\">, <OpenStackNetwork id=\"63923123-219e-4b89-94cf-b4555d71dd23\" name=\"ext-net-nonprod\" cidr=\"None\">, <OpenStackNetwork id=\"0294098f-6346-4223-a543-2bece1315ce6\" name=\"JIO_IVIDEON_PROD\" cidr=\"None\">, <OpenStackNetwork id=\"e7813f0e-be11-435e-88e6-c007f5c505b3\" name=\"fixed\" cidr=\"None\">, <OpenStackNetwork id=\"e559fa1c-aacd-49af-b142-ab785795800f\" name=\"fixed-net\" cidr=\"None\">, <OpenStackNetwork id=\"b1f8ad13-f995-43b2-88e6-4fa12820e51a\" name=\"ext-net\" cidr=\"None\">, <OpenStackNetwork id=\"58c01803-5baa-413b-b2f7-67e6e44624d3\" name=\"DEV_PARTNERS_PROD\" cidr=\"None\">]\n"
     ]
    }
   ],
   "source": [
    "network = driver.ex_list_networks()\n",
    "print(network)"
   ]
  },
  {
   "cell_type": "markdown",
   "metadata": {},
   "source": [
    "### List Subnets"
   ]
  },
  {
   "cell_type": "code",
   "execution_count": 4,
   "metadata": {},
   "outputs": [
    {
     "name": "stderr",
     "output_type": "stream",
     "text": [
      "C:\\ProgramData\\Anaconda5\\lib\\site-packages\\urllib3\\connectionpool.py:981: InsecureRequestWarning: Unverified HTTPS request is being made to host '10.159.42.25'. Adding certificate verification is strongly advised. See: https://urllib3.readthedocs.io/en/latest/advanced-usage.html#ssl-warnings\n",
      "  warnings.warn(\n",
      "C:\\ProgramData\\Anaconda5\\lib\\site-packages\\urllib3\\connectionpool.py:981: InsecureRequestWarning: Unverified HTTPS request is being made to host '10.159.42.25'. Adding certificate verification is strongly advised. See: https://urllib3.readthedocs.io/en/latest/advanced-usage.html#ssl-warnings\n",
      "  warnings.warn(\n"
     ]
    },
    {
     "data": {
      "text/plain": [
       "[<OpenStackNetwork id=\"86c30cce-15f3-4aae-81d0-9de23629069f\" name=\"DEV_PARTNERS_NONPROD\" cidr=\"None\">,\n",
       " <OpenStackNetwork id=\"5e5f09ec-9fbf-4d79-a3d3-24ea100c4b3e\" name=\"JIO_EMBIBE_DEV\" cidr=\"None\">,\n",
       " <OpenStackNetwork id=\"63923123-219e-4b89-94cf-b4555d71dd23\" name=\"ext-net-nonprod\" cidr=\"None\">,\n",
       " <OpenStackNetwork id=\"0294098f-6346-4223-a543-2bece1315ce6\" name=\"JIO_IVIDEON_PROD\" cidr=\"None\">,\n",
       " <OpenStackNetwork id=\"e7813f0e-be11-435e-88e6-c007f5c505b3\" name=\"fixed\" cidr=\"None\">,\n",
       " <OpenStackNetwork id=\"e559fa1c-aacd-49af-b142-ab785795800f\" name=\"fixed-net\" cidr=\"None\">,\n",
       " <OpenStackNetwork id=\"b1f8ad13-f995-43b2-88e6-4fa12820e51a\" name=\"ext-net\" cidr=\"None\">,\n",
       " <OpenStackNetwork id=\"58c01803-5baa-413b-b2f7-67e6e44624d3\" name=\"DEV_PARTNERS_PROD\" cidr=\"None\">]"
      ]
     },
     "execution_count": 4,
     "metadata": {},
     "output_type": "execute_result"
    }
   ],
   "source": [
    "networks = driver.ex_list_networks()\n",
    "networks"
   ]
  },
  {
   "cell_type": "code",
   "execution_count": 5,
   "metadata": {},
   "outputs": [
    {
     "data": {
      "text/plain": [
       "{'id': '86c30cce-15f3-4aae-81d0-9de23629069f',\n",
       " 'name': 'DEV_PARTNERS_NONPROD',\n",
       " 'cidr': None,\n",
       " 'driver': <libcloud.compute.drivers.openstack.OpenStack_1_1_NodeDriver at 0x12adb8af790>,\n",
       " 'extra': {}}"
      ]
     },
     "execution_count": 5,
     "metadata": {},
     "output_type": "execute_result"
    }
   ],
   "source": [
    "network = networks[0]\n",
    "network.__dict__"
   ]
  },
  {
   "cell_type": "code",
   "execution_count": 8,
   "metadata": {},
   "outputs": [
    {
     "ename": "AttributeError",
     "evalue": "'OpenStack_1_1_NodeDriver' object has no attribute 'ex_list_subnets'",
     "output_type": "error",
     "traceback": [
      "\u001b[1;31m---------------------------------------------------------------------------\u001b[0m",
      "\u001b[1;31mAttributeError\u001b[0m                            Traceback (most recent call last)",
      "\u001b[1;32m<ipython-input-8-aa78c401c0f6>\u001b[0m in \u001b[0;36m<module>\u001b[1;34m\u001b[0m\n\u001b[1;32m----> 1\u001b[1;33m \u001b[0msubnets\u001b[0m \u001b[1;33m=\u001b[0m \u001b[0mdriver\u001b[0m\u001b[1;33m.\u001b[0m\u001b[0mex_list_subnets\u001b[0m\u001b[1;33m(\u001b[0m\u001b[0mnetwork\u001b[0m\u001b[1;33m)\u001b[0m\u001b[1;33m\u001b[0m\u001b[1;33m\u001b[0m\u001b[0m\n\u001b[0m\u001b[0;32m      2\u001b[0m \u001b[0mprint\u001b[0m\u001b[1;33m(\u001b[0m\u001b[0msubnets\u001b[0m\u001b[1;33m)\u001b[0m\u001b[1;33m\u001b[0m\u001b[1;33m\u001b[0m\u001b[0m\n",
      "\u001b[1;31mAttributeError\u001b[0m: 'OpenStack_1_1_NodeDriver' object has no attribute 'ex_list_subnets'"
     ]
    }
   ],
   "source": [
    "subnets = driver.ex_list_subnets(network)\n",
    "print(subnets)"
   ]
  },
  {
   "cell_type": "markdown",
   "metadata": {},
   "source": [
    "### List Nodes (Instance Listing)"
   ]
  },
  {
   "cell_type": "code",
   "execution_count": 4,
   "metadata": {
    "scrolled": true
   },
   "outputs": [
    {
     "name": "stderr",
     "output_type": "stream",
     "text": [
      "C:\\ProgramData\\Anaconda5\\lib\\site-packages\\urllib3\\connectionpool.py:981: InsecureRequestWarning: Unverified HTTPS request is being made to host '10.159.42.25'. Adding certificate verification is strongly advised. See: https://urllib3.readthedocs.io/en/latest/advanced-usage.html#ssl-warnings\n",
      "  warnings.warn(\n",
      "C:\\ProgramData\\Anaconda5\\lib\\site-packages\\urllib3\\connectionpool.py:981: InsecureRequestWarning: Unverified HTTPS request is being made to host '10.159.42.25'. Adding certificate verification is strongly advised. See: https://urllib3.readthedocs.io/en/latest/advanced-usage.html#ssl-warnings\n",
      "  warnings.warn(\n"
     ]
    },
    {
     "data": {
      "text/plain": [
       "[<Node: uuid=58e97e4e1a6da044569ab5957501cf13e06a693e, name=CMPTEST2, state=RUNNING, public_ips=[], private_ips=['192.168.0.8', '10.159.43.71'], provider=OpenStack ...>]"
      ]
     },
     "execution_count": 4,
     "metadata": {},
     "output_type": "execute_result"
    }
   ],
   "source": [
    "nodes = driver.list_nodes()\n",
    "nodes"
   ]
  },
  {
   "cell_type": "code",
   "execution_count": 7,
   "metadata": {},
   "outputs": [
    {
     "data": {
      "text/plain": [
       "{'id': '4e4f44ac-ca2a-440e-bdd1-03221ed501bb',\n",
       " 'name': 'CMPTEST2',\n",
       " 'state': running,\n",
       " 'public_ips': [],\n",
       " 'private_ips': ['192.168.0.8', '10.159.43.71'],\n",
       " 'driver': <libcloud.compute.drivers.openstack.OpenStack_1_1_NodeDriver at 0x29f56166460>,\n",
       " 'size': None,\n",
       " 'created_at': datetime.datetime(2020, 12, 9, 7, 21, 28, tzinfo=<libcloud.utils.iso8601.Utc object at 0x0000029F5649BA00>),\n",
       " 'image': None,\n",
       " 'extra': {'addresses': {'fixed-net': [{'OS-EXT-IPS-MAC:mac_addr': '02:cf:93:c2:bd:10',\n",
       "     'version': 4,\n",
       "     'addr': '192.168.0.8',\n",
       "     'OS-EXT-IPS:type': 'fixed'},\n",
       "    {'OS-EXT-IPS-MAC:mac_addr': '02:cf:93:c2:bd:10',\n",
       "     'version': 4,\n",
       "     'addr': '10.159.43.71',\n",
       "     'OS-EXT-IPS:type': 'floating'}]},\n",
       "  'hostId': '09582b595657a27a67ec9869a6bca0999324c7ed6a2cef4643bfc293',\n",
       "  'access_ip': '',\n",
       "  'access_ipv6': '',\n",
       "  'tenantId': '29c03edf206d4b319a2a1568a578b3c9',\n",
       "  'userId': '4afecb68fe204408ab2bfd8f2b6da21e',\n",
       "  'imageId': None,\n",
       "  'flavorId': '0c1f42bf-38f7-48c3-9612-5485d60d2ab8',\n",
       "  'uri': 'https://10.159.42.25:8774/v2.1/servers/4e4f44ac-ca2a-440e-bdd1-03221ed501bb',\n",
       "  'service_name': 'nova',\n",
       "  'metadata': {},\n",
       "  'password': None,\n",
       "  'created': '2020-12-09T07:21:28Z',\n",
       "  'updated': '2020-12-09T07:21:48Z',\n",
       "  'key_name': 'CMPtest',\n",
       "  'disk_config': 'AUTO',\n",
       "  'config_drive': 'True',\n",
       "  'availability_zone': 'NonProd_AZ',\n",
       "  'volumes_attached': [{'id': '848731ed-95dc-4771-8c1b-cca314adf023'}],\n",
       "  'task_state': None,\n",
       "  'vm_state': 'active',\n",
       "  'power_state': 1,\n",
       "  'progress': 0,\n",
       "  'fault': None},\n",
       " '_uuid': '58e97e4e1a6da044569ab5957501cf13e06a693e'}"
      ]
     },
     "execution_count": 7,
     "metadata": {},
     "output_type": "execute_result"
    }
   ],
   "source": [
    "node = nodes[0]\n",
    "node_dict=node.__dict__\n",
    "node_dict"
   ]
  },
  {
   "cell_type": "markdown",
   "metadata": {},
   "source": [
    "### List IP Adresses"
   ]
  },
  {
   "cell_type": "code",
   "execution_count": 19,
   "metadata": {},
   "outputs": [
    {
     "ename": "AttributeError",
     "evalue": "'OpenStack_1_1_NodeDriver' object has no attribute 'ex_describe_addresses'",
     "output_type": "error",
     "traceback": [
      "\u001b[1;31m---------------------------------------------------------------------------\u001b[0m",
      "\u001b[1;31mAttributeError\u001b[0m                            Traceback (most recent call last)",
      "\u001b[1;32m<ipython-input-19-35fc4278d751>\u001b[0m in \u001b[0;36m<module>\u001b[1;34m\u001b[0m\n\u001b[1;32m----> 1\u001b[1;33m \u001b[0mip\u001b[0m \u001b[1;33m=\u001b[0m \u001b[0mdriver\u001b[0m\u001b[1;33m.\u001b[0m\u001b[0mex_describe_addresses\u001b[0m\u001b[1;33m(\u001b[0m\u001b[1;34m'4e4f44ac-ca2a-440e-bdd1-03221ed501bb'\u001b[0m\u001b[1;33m)\u001b[0m\u001b[1;33m\u001b[0m\u001b[1;33m\u001b[0m\u001b[0m\n\u001b[0m\u001b[0;32m      2\u001b[0m \u001b[0mip\u001b[0m\u001b[1;33m\u001b[0m\u001b[1;33m\u001b[0m\u001b[0m\n",
      "\u001b[1;31mAttributeError\u001b[0m: 'OpenStack_1_1_NodeDriver' object has no attribute 'ex_describe_addresses'"
     ]
    }
   ],
   "source": [
    "ip = driver.ex_describe_addresses('4e4f44ac-ca2a-440e-bdd1-03221ed501bb')\n",
    "ip"
   ]
  },
  {
   "cell_type": "markdown",
   "metadata": {},
   "source": [
    "### List Volume Snapshots"
   ]
  },
  {
   "cell_type": "code",
   "execution_count": 33,
   "metadata": {},
   "outputs": [
    {
     "name": "stderr",
     "output_type": "stream",
     "text": [
      "C:\\ProgramData\\Anaconda5\\lib\\site-packages\\urllib3\\connectionpool.py:981: InsecureRequestWarning: Unverified HTTPS request is being made to host '10.159.42.25'. Adding certificate verification is strongly advised. See: https://urllib3.readthedocs.io/en/latest/advanced-usage.html#ssl-warnings\n",
      "  warnings.warn(\n"
     ]
    },
    {
     "data": {
      "text/plain": [
       "[]"
      ]
     },
     "execution_count": 33,
     "metadata": {},
     "output_type": "execute_result"
    }
   ],
   "source": [
    "snapshot = driver.list_volume_snapshots('848731ed-95dc-4771-8c1b-cca314adf023')\n",
    "snapshot"
   ]
  },
  {
   "cell_type": "markdown",
   "metadata": {},
   "source": [
    "### List Snapshots"
   ]
  },
  {
   "cell_type": "code",
   "execution_count": 42,
   "metadata": {},
   "outputs": [
    {
     "name": "stderr",
     "output_type": "stream",
     "text": [
      "C:\\ProgramData\\Anaconda5\\lib\\site-packages\\urllib3\\connectionpool.py:981: InsecureRequestWarning: Unverified HTTPS request is being made to host '10.159.42.25'. Adding certificate verification is strongly advised. See: https://urllib3.readthedocs.io/en/latest/advanced-usage.html#ssl-warnings\n",
      "  warnings.warn(\n",
      "C:\\ProgramData\\Anaconda5\\lib\\site-packages\\urllib3\\connectionpool.py:981: InsecureRequestWarning: Unverified HTTPS request is being made to host '10.159.42.25'. Adding certificate verification is strongly advised. See: https://urllib3.readthedocs.io/en/latest/advanced-usage.html#ssl-warnings\n",
      "  warnings.warn(\n"
     ]
    },
    {
     "data": {
      "text/plain": [
       "[]"
      ]
     },
     "execution_count": 42,
     "metadata": {},
     "output_type": "execute_result"
    }
   ],
   "source": [
    "listsnapshot = driver.ex_list_snapshots()\n",
    "listsnapshot"
   ]
  },
  {
   "cell_type": "code",
   "execution_count": 24,
   "metadata": {},
   "outputs": [
    {
     "ename": "AttributeError",
     "evalue": "'OpenStack_1_1_NodeDriver' object has no attribute 'list_instances'",
     "output_type": "error",
     "traceback": [
      "\u001b[1;31m---------------------------------------------------------------------------\u001b[0m",
      "\u001b[1;31mAttributeError\u001b[0m                            Traceback (most recent call last)",
      "\u001b[1;32m<ipython-input-24-0934078dfc29>\u001b[0m in \u001b[0;36m<module>\u001b[1;34m\u001b[0m\n\u001b[1;32m----> 1\u001b[1;33m \u001b[0minstances\u001b[0m \u001b[1;33m=\u001b[0m \u001b[0mdriver\u001b[0m\u001b[1;33m.\u001b[0m\u001b[0mlist_instances\u001b[0m\u001b[1;33m(\u001b[0m\u001b[1;33m)\u001b[0m\u001b[1;33m\u001b[0m\u001b[1;33m\u001b[0m\u001b[0m\n\u001b[0m\u001b[0;32m      2\u001b[0m \u001b[0minstances\u001b[0m\u001b[1;33m\u001b[0m\u001b[1;33m\u001b[0m\u001b[0m\n",
      "\u001b[1;31mAttributeError\u001b[0m: 'OpenStack_1_1_NodeDriver' object has no attribute 'list_instances'"
     ]
    }
   ],
   "source": [
    "instances = driver.list_instances()\n",
    "instances"
   ]
  },
  {
   "cell_type": "code",
   "execution_count": null,
   "metadata": {},
   "outputs": [],
   "source": []
  }
 ],
 "metadata": {
  "kernelspec": {
   "display_name": "Python 3",
   "language": "python",
   "name": "python3"
  },
  "language_info": {
   "codemirror_mode": {
    "name": "ipython",
    "version": 3
   },
   "file_extension": ".py",
   "mimetype": "text/x-python",
   "name": "python",
   "nbconvert_exporter": "python",
   "pygments_lexer": "ipython3",
   "version": "3.8.5"
  }
 },
 "nbformat": 4,
 "nbformat_minor": 4
}
